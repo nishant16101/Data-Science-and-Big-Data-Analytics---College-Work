{
 "cells": [
  {
   "cell_type": "code",
   "execution_count": 1,
   "metadata": {
    "executionInfo": {
     "elapsed": 5,
     "status": "ok",
     "timestamp": 1739255877226,
     "user": {
      "displayName": "Nishant Kumbhar",
      "userId": "02478225682373517316"
     },
     "user_tz": -330
    },
    "id": "MNrCPPn9k9NC"
   },
   "outputs": [],
   "source": [
    "import pandas as pd\n",
    "import numpy as np\n"
   ]
  },
  {
   "cell_type": "code",
   "execution_count": 2,
   "metadata": {
    "colab": {
     "base_uri": "https://localhost:8080/",
     "height": 424
    },
    "executionInfo": {
     "elapsed": 54,
     "status": "ok",
     "timestamp": 1739255877856,
     "user": {
      "displayName": "Nishant Kumbhar",
      "userId": "02478225682373517316"
     },
     "user_tz": -330
    },
    "id": "8XrzzNE4lPnY",
    "outputId": "9d1ed42c-be77-4fc5-c237-755b1d72ac6a"
   },
   "outputs": [
    {
     "data": {
      "text/html": [
       "<div>\n",
       "<style scoped>\n",
       "    .dataframe tbody tr th:only-of-type {\n",
       "        vertical-align: middle;\n",
       "    }\n",
       "\n",
       "    .dataframe tbody tr th {\n",
       "        vertical-align: top;\n",
       "    }\n",
       "\n",
       "    .dataframe thead th {\n",
       "        text-align: right;\n",
       "    }\n",
       "</style>\n",
       "<table border=\"1\" class=\"dataframe\">\n",
       "  <thead>\n",
       "    <tr style=\"text-align: right;\">\n",
       "      <th></th>\n",
       "      <th>sepal length (cm)</th>\n",
       "      <th>sepal width (cm)</th>\n",
       "      <th>petal length (cm)</th>\n",
       "      <th>petal width (cm)</th>\n",
       "      <th>target</th>\n",
       "    </tr>\n",
       "  </thead>\n",
       "  <tbody>\n",
       "    <tr>\n",
       "      <th>0</th>\n",
       "      <td>5.1</td>\n",
       "      <td>3.5</td>\n",
       "      <td>1.4</td>\n",
       "      <td>0.2</td>\n",
       "      <td>0.0</td>\n",
       "    </tr>\n",
       "    <tr>\n",
       "      <th>1</th>\n",
       "      <td>4.9</td>\n",
       "      <td>3.0</td>\n",
       "      <td>1.4</td>\n",
       "      <td>0.2</td>\n",
       "      <td>0.0</td>\n",
       "    </tr>\n",
       "    <tr>\n",
       "      <th>2</th>\n",
       "      <td>4.7</td>\n",
       "      <td>3.2</td>\n",
       "      <td>1.3</td>\n",
       "      <td>0.2</td>\n",
       "      <td>0.0</td>\n",
       "    </tr>\n",
       "    <tr>\n",
       "      <th>3</th>\n",
       "      <td>4.6</td>\n",
       "      <td>3.1</td>\n",
       "      <td>1.5</td>\n",
       "      <td>0.2</td>\n",
       "      <td>0.0</td>\n",
       "    </tr>\n",
       "    <tr>\n",
       "      <th>4</th>\n",
       "      <td>5.0</td>\n",
       "      <td>3.6</td>\n",
       "      <td>1.4</td>\n",
       "      <td>0.2</td>\n",
       "      <td>0.0</td>\n",
       "    </tr>\n",
       "    <tr>\n",
       "      <th>...</th>\n",
       "      <td>...</td>\n",
       "      <td>...</td>\n",
       "      <td>...</td>\n",
       "      <td>...</td>\n",
       "      <td>...</td>\n",
       "    </tr>\n",
       "    <tr>\n",
       "      <th>145</th>\n",
       "      <td>6.7</td>\n",
       "      <td>3.0</td>\n",
       "      <td>5.2</td>\n",
       "      <td>2.3</td>\n",
       "      <td>2.0</td>\n",
       "    </tr>\n",
       "    <tr>\n",
       "      <th>146</th>\n",
       "      <td>6.3</td>\n",
       "      <td>2.5</td>\n",
       "      <td>5.0</td>\n",
       "      <td>1.9</td>\n",
       "      <td>2.0</td>\n",
       "    </tr>\n",
       "    <tr>\n",
       "      <th>147</th>\n",
       "      <td>6.5</td>\n",
       "      <td>3.0</td>\n",
       "      <td>5.2</td>\n",
       "      <td>2.0</td>\n",
       "      <td>2.0</td>\n",
       "    </tr>\n",
       "    <tr>\n",
       "      <th>148</th>\n",
       "      <td>6.2</td>\n",
       "      <td>3.4</td>\n",
       "      <td>5.4</td>\n",
       "      <td>2.3</td>\n",
       "      <td>2.0</td>\n",
       "    </tr>\n",
       "    <tr>\n",
       "      <th>149</th>\n",
       "      <td>5.9</td>\n",
       "      <td>3.0</td>\n",
       "      <td>5.1</td>\n",
       "      <td>1.8</td>\n",
       "      <td>2.0</td>\n",
       "    </tr>\n",
       "  </tbody>\n",
       "</table>\n",
       "<p>150 rows × 5 columns</p>\n",
       "</div>"
      ],
      "text/plain": [
       "     sepal length (cm)  sepal width (cm)  petal length (cm)  petal width (cm)  \\\n",
       "0                  5.1               3.5                1.4               0.2   \n",
       "1                  4.9               3.0                1.4               0.2   \n",
       "2                  4.7               3.2                1.3               0.2   \n",
       "3                  4.6               3.1                1.5               0.2   \n",
       "4                  5.0               3.6                1.4               0.2   \n",
       "..                 ...               ...                ...               ...   \n",
       "145                6.7               3.0                5.2               2.3   \n",
       "146                6.3               2.5                5.0               1.9   \n",
       "147                6.5               3.0                5.2               2.0   \n",
       "148                6.2               3.4                5.4               2.3   \n",
       "149                5.9               3.0                5.1               1.8   \n",
       "\n",
       "     target  \n",
       "0       0.0  \n",
       "1       0.0  \n",
       "2       0.0  \n",
       "3       0.0  \n",
       "4       0.0  \n",
       "..      ...  \n",
       "145     2.0  \n",
       "146     2.0  \n",
       "147     2.0  \n",
       "148     2.0  \n",
       "149     2.0  \n",
       "\n",
       "[150 rows x 5 columns]"
      ]
     },
     "execution_count": 2,
     "metadata": {},
     "output_type": "execute_result"
    }
   ],
   "source": [
    "from sklearn import datasets\n",
    "iris = datasets.load_iris()\n",
    "df = pd.DataFrame(data= np.c_[iris['data'], iris['target']],\n",
    "                     columns= iris['feature_names'] + ['target'])\n",
    "df\n"
   ]
  },
  {
   "cell_type": "code",
   "execution_count": 3,
   "metadata": {
    "colab": {
     "base_uri": "https://localhost:8080/"
    },
    "executionInfo": {
     "elapsed": 7,
     "status": "ok",
     "timestamp": 1739255878526,
     "user": {
      "displayName": "Nishant Kumbhar",
      "userId": "02478225682373517316"
     },
     "user_tz": -330
    },
    "id": "jPcFW-3FleVn",
    "outputId": "801f5e8c-3b84-4631-d6a4-f2d3d07b9d8f"
   },
   "outputs": [
    {
     "name": "stdout",
     "output_type": "stream",
     "text": [
      "3.7580000000000005\n",
      "5.843333333333334\n",
      "3.0573333333333337\n",
      "3.0573333333333337\n"
     ]
    }
   ],
   "source": [
    "#mean\n",
    "print(df['petal length (cm)'].mean())\n",
    "print(df['sepal length (cm)'].mean())\n",
    "print(df['sepal width (cm)'].mean())\n",
    "print(df['sepal width (cm)'].mean())\n"
   ]
  },
  {
   "cell_type": "code",
   "execution_count": 4,
   "metadata": {
    "colab": {
     "base_uri": "https://localhost:8080/"
    },
    "executionInfo": {
     "elapsed": 13,
     "status": "ok",
     "timestamp": 1739255879221,
     "user": {
      "displayName": "Nishant Kumbhar",
      "userId": "02478225682373517316"
     },
     "user_tz": -330
    },
    "id": "p0EQ-fPumy93",
    "outputId": "67dbf403-ffff-4bb1-d24e-f831ecca128b"
   },
   "outputs": [
    {
     "name": "stdout",
     "output_type": "stream",
     "text": [
      "0    1.4\n",
      "1    1.5\n",
      "Name: petal length (cm), dtype: float64\n",
      "0    5.0\n",
      "Name: sepal length (cm), dtype: float64\n",
      "0    3.0\n",
      "Name: sepal width (cm), dtype: float64\n",
      "0    3.0\n",
      "Name: sepal width (cm), dtype: float64\n"
     ]
    }
   ],
   "source": [
    "#mode\n",
    "print(df['petal length (cm)'].mode())\n",
    "print(df['sepal length (cm)'].mode())\n",
    "print(df['sepal width (cm)'].mode())\n",
    "print(df['sepal width (cm)'].mode())"
   ]
  },
  {
   "cell_type": "code",
   "execution_count": 5,
   "metadata": {
    "colab": {
     "base_uri": "https://localhost:8080/"
    },
    "executionInfo": {
     "elapsed": 5,
     "status": "ok",
     "timestamp": 1739255879908,
     "user": {
      "displayName": "Nishant Kumbhar",
      "userId": "02478225682373517316"
     },
     "user_tz": -330
    },
    "id": "jGvQx6kBm3pq",
    "outputId": "ba6737ab-5129-498b-9103-eb8091ddec22"
   },
   "outputs": [
    {
     "name": "stdout",
     "output_type": "stream",
     "text": [
      "4.35\n",
      "5.8\n",
      "3.0\n",
      "3.0\n"
     ]
    }
   ],
   "source": [
    "#median\n",
    "print(df['petal length (cm)'].median())\n",
    "print(df['sepal length (cm)'].median())\n",
    "print(df['sepal width (cm)'].median())\n",
    "print(df['sepal width (cm)'].median())"
   ]
  },
  {
   "cell_type": "code",
   "execution_count": 6,
   "metadata": {
    "colab": {
     "base_uri": "https://localhost:8080/"
    },
    "executionInfo": {
     "elapsed": 12,
     "status": "ok",
     "timestamp": 1739255880525,
     "user": {
      "displayName": "Nishant Kumbhar",
      "userId": "02478225682373517316"
     },
     "user_tz": -330
    },
    "id": "gaNh32qUnHdj",
    "outputId": "2e97a3ae-5011-40b1-9884-9be1286a4b41"
   },
   "outputs": [
    {
     "name": "stdout",
     "output_type": "stream",
     "text": [
      "1.7652982332594662\n",
      "0.828066127977863\n",
      "0.4358662849366982\n",
      "0.4358662849366982\n"
     ]
    }
   ],
   "source": [
    "#standard deviation\n",
    "print(df['petal length (cm)'].std())\n",
    "print(df['sepal length (cm)'].std())\n",
    "print(df['sepal width (cm)'].std())\n",
    "print(df['sepal width (cm)'].std())"
   ]
  },
  {
   "cell_type": "code",
   "execution_count": 7,
   "metadata": {
    "colab": {
     "base_uri": "https://localhost:8080/"
    },
    "executionInfo": {
     "elapsed": 43,
     "status": "ok",
     "timestamp": 1739255881140,
     "user": {
      "displayName": "Nishant Kumbhar",
      "userId": "02478225682373517316"
     },
     "user_tz": -330
    },
    "id": "CIsn4QVDnThj",
    "outputId": "8b10d262-3cc2-416a-c643-4c2475e41037"
   },
   "outputs": [
    {
     "name": "stdout",
     "output_type": "stream",
     "text": [
      "1.0\n",
      "4.3\n",
      "2.0\n",
      "2.0\n"
     ]
    }
   ],
   "source": [
    "#minimun\n",
    "print(df['petal length (cm)'].min())\n",
    "print(df['sepal length (cm)'].min())\n",
    "print(df['sepal width (cm)'].min())\n",
    "print(df['sepal width (cm)'].min())"
   ]
  },
  {
   "cell_type": "code",
   "execution_count": 8,
   "metadata": {
    "colab": {
     "base_uri": "https://localhost:8080/"
    },
    "executionInfo": {
     "elapsed": 11,
     "status": "ok",
     "timestamp": 1739255881691,
     "user": {
      "displayName": "Nishant Kumbhar",
      "userId": "02478225682373517316"
     },
     "user_tz": -330
    },
    "id": "O_c7F_zsnfWj",
    "outputId": "92013ed5-888f-412f-a5a6-25c8ba079f3a"
   },
   "outputs": [
    {
     "name": "stdout",
     "output_type": "stream",
     "text": [
      "6.9\n",
      "7.9\n",
      "4.4\n",
      "4.4\n"
     ]
    }
   ],
   "source": [
    "#maximum\n",
    "print(df['petal length (cm)'].max())\n",
    "print(df['sepal length (cm)'].max())\n",
    "print(df['sepal width (cm)'].max())\n",
    "print(df['sepal width (cm)'].max())"
   ]
  },
  {
   "cell_type": "code",
   "execution_count": 9,
   "metadata": {
    "colab": {
     "base_uri": "https://localhost:8080/",
     "height": 807
    },
    "executionInfo": {
     "elapsed": 889,
     "status": "ok",
     "timestamp": 1739255883189,
     "user": {
      "displayName": "Nishant Kumbhar",
      "userId": "02478225682373517316"
     },
     "user_tz": -330
    },
    "id": "O1-uk9JxntN8",
    "outputId": "c9a306a6-8e1a-4209-b687-0f67559c0e27"
   },
   "outputs": [
    {
     "data": {
      "image/png": "[encoded data removed]",
      "text/plain": [
       "<Figure size 1200x800 with 4 Axes>"
      ]
     },
     "metadata": {},
     "output_type": "display_data"
    }
   ],
   "source": [
    "import matplotlib.pyplot as plt\n",
    "plt.figure(figsize=(12, 8))\n",
    "\n",
    "plt.subplot(2, 2, 1)\n",
    "plt.hist(df['petal length (cm)'], bins=10)\n",
    "plt.title('Petal Length Distribution')\n",
    "plt.xlabel('Petal Length (cm)')\n",
    "plt.ylabel('Frequency')\n",
    "\n",
    "plt.subplot(2, 2, 2)\n",
    "plt.hist(df['sepal length (cm)'], bins=10)\n",
    "plt.title('Sepal Length Distribution')\n",
    "plt.xlabel('Sepal Length (cm)')\n",
    "plt.ylabel('Frequency')\n",
    "\n",
    "plt.subplot(2, 2, 3)\n",
    "plt.hist(df['sepal width (cm)'], bins=10)\n",
    "plt.title('Sepal Width Distribution')\n",
    "plt.xlabel('Sepal Width (cm)')\n",
    "plt.ylabel('Frequency')\n",
    "\n",
    "plt.subplot(2, 2, 4)\n",
    "plt.hist(df['petal width (cm)'], bins=10)\n",
    "plt.title('Petal Width Distribution')\n",
    "plt.xlabel('Petal Width (cm)')\n",
    "plt.ylabel('Frequency')\n",
    "\n",
    "\n",
    "plt.tight_layout()\n",
    "plt.show()\n"
   ]
  },
  {
   "cell_type": "code",
   "execution_count": 10,
   "metadata": {
    "colab": {
     "base_uri": "https://localhost:8080/",
     "height": 562
    },
    "executionInfo": {
     "elapsed": 290,
     "status": "ok",
     "timestamp": 1739255884528,
     "user": {
      "displayName": "Nishant Kumbhar",
      "userId": "02478225682373517316"
     },
     "user_tz": -330
    },
    "id": "ITQiaqzDt8bg",
    "outputId": "fa29046f-723a-4712-f085-4cb3e8b6069d"
   },
   "outputs": [
    {
     "data": {
      "text/plain": [
       "Text(0.5, 1.0, 'Box Plots Before Outlier Removal')"
      ]
     },
     "execution_count": 10,
     "metadata": {},
     "output_type": "execute_result"
    },
    {
     "data": {
      "image/png": "[encoded data removed]",
      "text/plain": [
       "<Figure size 1200x600 with 1 Axes>"
      ]
     },
     "metadata": {},
     "output_type": "display_data"
    }
   ],
   "source": [
    "\n",
    "plt.figure(figsize=(12, 6))\n",
    "\n",
    "plt.subplot(1, 2, 1)\n",
    "df.boxplot(column=['sepal length (cm)', 'sepal width (cm)', 'petal length (cm)', 'petal width (cm)'])\n",
    "plt.title('Box Plots Before Outlier Removal')\n",
    "\n"
   ]
  },
  {
   "cell_type": "code",
   "execution_count": 11,
   "metadata": {
    "executionInfo": {
     "elapsed": 17,
     "status": "ok",
     "timestamp": 1739255886473,
     "user": {
      "displayName": "Nishant Kumbhar",
      "userId": "02478225682373517316"
     },
     "user_tz": -330
    },
    "id": "DQkhluSZubdJ"
   },
   "outputs": [],
   "source": [
    "def remove_outliers_iqr(df, column):\n",
    "    Q1 = df[column].quantile(0.25)\n",
    "    Q3 = df[column].quantile(0.75)\n",
    "    IQR = Q3 - Q1\n",
    "    lower_bound = Q1 - 1.5 * IQR\n",
    "    upper_bound = Q3 + 1.5 * IQR\n",
    "    df_filtered = df[(df[column] >= lower_bound) & (df[column] <= upper_bound)]\n",
    "    return df_filtered\n",
    "for column in ['sepal length (cm)', 'sepal width (cm)', 'petal length (cm)', 'petal width (cm)']:\n",
    "    df = remove_outliers_iqr(df, column)"
   ]
  },
  {
   "cell_type": "code",
   "execution_count": 34,
   "metadata": {
    "colab": {
     "base_uri": "https://localhost:8080/",
     "height": 487
    },
    "executionInfo": {
     "elapsed": 558,
     "status": "ok",
     "timestamp": 1739255887962,
     "user": {
      "displayName": "Nishant Kumbhar",
      "userId": "02478225682373517316"
     },
     "user_tz": -330
    },
    "id": "W9yx5-DCugEV",
    "outputId": "9f379437-7e47-4953-b567-6791fac69baa"
   },
   "outputs": [
    {
     "data": {
      "image/png": "[encoded data removed]",
      "text/plain": [
       "<Figure size 640x480 with 1 Axes>"
      ]
     },
     "metadata": {},
     "output_type": "display_data"
    }
   ],
   "source": [
    "plt.subplot(1, 2, 2)\n",
    "df.boxplot(column=['sepal length (cm)', 'sepal width (cm)', 'petal length (cm)', 'petal width (cm)'])\n",
    "plt.title('Box Plots After Outlier Removal')\n",
    "\n",
    "plt.tight_layout()\n",
    "plt.show()"
   ]
  },
  {
   "cell_type": "code",
   "execution_count": null,
   "metadata": {
    "id": "a3Vv4gwyurTo"
   },
   "outputs": [],
   "source": []
  }
 ],
 "metadata": {
  "colab": {
   "authorship_tag": "ABX9TyNUKEPIkxhKtE/QN59pCBDG",
   "provenance": []
  },
  "kernelspec": {
   "display_name": "venv",
   "language": "python",
   "name": "python3"
  },
  "language_info": {
   "codemirror_mode": {
    "name": "ipython",
    "version": 3
   },
   "file_extension": ".py",
   "mimetype": "text/x-python",
   "name": "python",
   "nbconvert_exporter": "python",
   "pygments_lexer": "ipython3",
   "version": "3.11.9"
  }
 },
 "nbformat": 4,
 "nbformat_minor": 0
}
